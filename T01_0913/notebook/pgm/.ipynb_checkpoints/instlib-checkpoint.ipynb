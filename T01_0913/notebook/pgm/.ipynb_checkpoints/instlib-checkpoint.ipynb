{
 "cells": [
  {
   "cell_type": "markdown",
   "id": "2b2b4387",
   "metadata": {},
   "source": [
    "既存ライブラリの確認"
   ]
  },
  {
   "cell_type": "code",
   "execution_count": 1,
   "id": "6b52682d",
   "metadata": {},
   "outputs": [
    {
     "name": "stdout",
     "output_type": "stream",
     "text": [
      "Package             Version\n",
      "------------------- ---------\n",
      "argon2-cffi         21.1.0\n",
      "attrs               21.2.0\n",
      "backcall            0.2.0\n",
      "bleach              4.1.0\n",
      "certifi             2021.5.30\n",
      "cffi                1.14.6\n",
      "charset-normalizer  2.0.4\n",
      "debugpy             1.4.3\n",
      "decorator           5.1.0\n",
      "defusedxml          0.7.1\n",
      "entrypoints         0.3\n",
      "idna                3.2\n",
      "ipykernel           6.4.1\n",
      "ipython             7.27.0\n",
      "ipython-genutils    0.2.0\n",
      "ipywidgets          7.6.4\n",
      "jedi                0.18.0\n",
      "Jinja2              3.0.1\n",
      "json5               0.9.6\n",
      "jsonschema          3.2.0\n",
      "jupyter             1.0.0\n",
      "jupyter-client      7.0.2\n",
      "jupyter-console     6.4.0\n",
      "jupyter-core        4.7.1\n",
      "jupyterlab          2.1.4\n",
      "jupyterlab-pygments 0.1.2\n",
      "jupyterlab-server   1.2.0\n",
      "jupyterlab-widgets  1.0.1\n",
      "MarkupSafe          2.0.1\n",
      "matplotlib-inline   0.1.3\n",
      "mistune             0.8.4\n",
      "nbclient            0.5.4\n",
      "nbconvert           6.1.0\n",
      "nbformat            5.1.3\n",
      "nest-asyncio        1.5.1\n",
      "notebook            6.4.3\n",
      "packaging           21.0\n",
      "pandocfilters       1.4.3\n",
      "parso               0.8.2\n",
      "pexpect             4.8.0\n",
      "pickleshare         0.7.5\n",
      "pip                 21.2.4\n",
      "prometheus-client   0.11.0\n",
      "prompt-toolkit      3.0.20\n",
      "ptyprocess          0.7.0\n",
      "pycparser           2.20\n",
      "Pygments            2.10.0\n",
      "pyparsing           2.4.7\n",
      "pyrsistent          0.18.0\n",
      "python-dateutil     2.8.2\n",
      "pyzmq               22.2.1\n",
      "qtconsole           5.1.1\n",
      "QtPy                1.11.0\n",
      "requests            2.26.0\n",
      "Send2Trash          1.8.0\n",
      "setuptools          57.5.0\n",
      "six                 1.16.0\n",
      "terminado           0.12.1\n",
      "testpath            0.5.0\n",
      "tornado             6.1\n",
      "traitlets           5.1.0\n",
      "urllib3             1.26.6\n",
      "wcwidth             0.2.5\n",
      "webencodings        0.5.1\n",
      "wheel               0.37.0\n",
      "widgetsnbextension  3.5.1\n"
     ]
    }
   ],
   "source": [
    "!pip list"
   ]
  },
  {
   "cell_type": "markdown",
   "id": "262cc371",
   "metadata": {},
   "source": [
    "# 必要ライブラリのインストール"
   ]
  },
  {
   "cell_type": "code",
   "execution_count": 2,
   "id": "f15a5fd5",
   "metadata": {},
   "outputs": [
    {
     "name": "stdout",
     "output_type": "stream",
     "text": [
      "Defaulting to user installation because normal site-packages is not writeable\n",
      "Collecting numpy\n",
      "  Downloading numpy-1.21.2-cp39-cp39-manylinux_2_12_x86_64.manylinux2010_x86_64.whl (15.8 MB)\n",
      "\u001b[K     |████████████████████████████████| 15.8 MB 10.6 MB/s eta 0:00:01\n",
      "\u001b[?25hInstalling collected packages: numpy\n",
      "\u001b[33m  WARNING: The scripts f2py, f2py3 and f2py3.9 are installed in '/home/user/.local/bin' which is not on PATH.\n",
      "  Consider adding this directory to PATH or, if you prefer to suppress this warning, use --no-warn-script-location.\u001b[0m\n",
      "Successfully installed numpy-1.21.2\n",
      "Defaulting to user installation because normal site-packages is not writeable\n",
      "Collecting pandas\n",
      "  Downloading pandas-1.3.3-cp39-cp39-manylinux_2_17_x86_64.manylinux2014_x86_64.whl (11.5 MB)\n",
      "\u001b[K     |████████████████████████████████| 11.5 MB 8.4 MB/s eta 0:00:01    |▋                               | 215 kB 6.3 MB/s eta 0:00:02\n",
      "\u001b[?25hRequirement already satisfied: python-dateutil>=2.7.3 in /usr/local/lib/python3.9/site-packages (from pandas) (2.8.2)\n",
      "Requirement already satisfied: numpy>=1.17.3 in /home/user/.local/lib/python3.9/site-packages (from pandas) (1.21.2)\n",
      "Collecting pytz>=2017.3\n",
      "  Downloading pytz-2021.1-py2.py3-none-any.whl (510 kB)\n",
      "\u001b[K     |████████████████████████████████| 510 kB 7.7 MB/s eta 0:00:01\n",
      "\u001b[?25hRequirement already satisfied: six>=1.5 in /usr/local/lib/python3.9/site-packages (from python-dateutil>=2.7.3->pandas) (1.16.0)\n",
      "Installing collected packages: pytz, pandas\n",
      "Successfully installed pandas-1.3.3 pytz-2021.1\n",
      "Defaulting to user installation because normal site-packages is not writeable\n",
      "Collecting matplotlib\n",
      "  Downloading matplotlib-3.4.3-cp39-cp39-manylinux1_x86_64.whl (10.3 MB)\n",
      "\u001b[K     |████████████████████████████████| 10.3 MB 390 kB/s eta 0:00:01\n",
      "\u001b[?25hCollecting cycler>=0.10\n",
      "  Downloading cycler-0.10.0-py2.py3-none-any.whl (6.5 kB)\n",
      "Requirement already satisfied: numpy>=1.16 in /home/user/.local/lib/python3.9/site-packages (from matplotlib) (1.21.2)\n",
      "Collecting kiwisolver>=1.0.1\n",
      "  Downloading kiwisolver-1.3.2-cp39-cp39-manylinux_2_12_x86_64.manylinux2010_x86_64.whl (1.6 MB)\n",
      "\u001b[K     |████████████████████████████████| 1.6 MB 11.2 MB/s eta 0:00:01\n",
      "\u001b[?25hRequirement already satisfied: python-dateutil>=2.7 in /usr/local/lib/python3.9/site-packages (from matplotlib) (2.8.2)\n",
      "Requirement already satisfied: pyparsing>=2.2.1 in /usr/local/lib/python3.9/site-packages (from matplotlib) (2.4.7)\n",
      "Collecting pillow>=6.2.0\n",
      "  Downloading Pillow-8.3.2-cp39-cp39-manylinux_2_17_x86_64.manylinux2014_x86_64.whl (3.0 MB)\n",
      "\u001b[K     |████████████████████████████████| 3.0 MB 11.7 MB/s eta 0:00:01\n",
      "\u001b[?25hRequirement already satisfied: six in /usr/local/lib/python3.9/site-packages (from cycler>=0.10->matplotlib) (1.16.0)\n",
      "Installing collected packages: pillow, kiwisolver, cycler, matplotlib\n",
      "Successfully installed cycler-0.10.0 kiwisolver-1.3.2 matplotlib-3.4.3 pillow-8.3.2\n"
     ]
    }
   ],
   "source": [
    "!pip install numpy\n",
    "!pip install pandas\n",
    "!pip install matplotlib"
   ]
  },
  {
   "cell_type": "markdown",
   "id": "5c0eb5b1",
   "metadata": {},
   "source": [
    "# インストール結果の確認"
   ]
  },
  {
   "cell_type": "code",
   "execution_count": 3,
   "id": "d1aa97bd",
   "metadata": {},
   "outputs": [
    {
     "name": "stdout",
     "output_type": "stream",
     "text": [
      "Package             Version\n",
      "------------------- ---------\n",
      "argon2-cffi         21.1.0\n",
      "attrs               21.2.0\n",
      "backcall            0.2.0\n",
      "bleach              4.1.0\n",
      "certifi             2021.5.30\n",
      "cffi                1.14.6\n",
      "charset-normalizer  2.0.4\n",
      "cycler              0.10.0\n",
      "debugpy             1.4.3\n",
      "decorator           5.1.0\n",
      "defusedxml          0.7.1\n",
      "entrypoints         0.3\n",
      "idna                3.2\n",
      "ipykernel           6.4.1\n",
      "ipython             7.27.0\n",
      "ipython-genutils    0.2.0\n",
      "ipywidgets          7.6.4\n",
      "jedi                0.18.0\n",
      "Jinja2              3.0.1\n",
      "json5               0.9.6\n",
      "jsonschema          3.2.0\n",
      "jupyter             1.0.0\n",
      "jupyter-client      7.0.2\n",
      "jupyter-console     6.4.0\n",
      "jupyter-core        4.7.1\n",
      "jupyterlab          2.1.4\n",
      "jupyterlab-pygments 0.1.2\n",
      "jupyterlab-server   1.2.0\n",
      "jupyterlab-widgets  1.0.1\n",
      "kiwisolver          1.3.2\n",
      "MarkupSafe          2.0.1\n",
      "matplotlib          3.4.3\n",
      "matplotlib-inline   0.1.3\n",
      "mistune             0.8.4\n",
      "nbclient            0.5.4\n",
      "nbconvert           6.1.0\n",
      "nbformat            5.1.3\n",
      "nest-asyncio        1.5.1\n",
      "notebook            6.4.3\n",
      "numpy               1.21.2\n",
      "packaging           21.0\n",
      "pandas              1.3.3\n",
      "pandocfilters       1.4.3\n",
      "parso               0.8.2\n",
      "pexpect             4.8.0\n",
      "pickleshare         0.7.5\n",
      "Pillow              8.3.2\n",
      "pip                 21.2.4\n",
      "prometheus-client   0.11.0\n",
      "prompt-toolkit      3.0.20\n",
      "ptyprocess          0.7.0\n",
      "pycparser           2.20\n",
      "Pygments            2.10.0\n",
      "pyparsing           2.4.7\n",
      "pyrsistent          0.18.0\n",
      "python-dateutil     2.8.2\n",
      "pytz                2021.1\n",
      "pyzmq               22.2.1\n",
      "qtconsole           5.1.1\n",
      "QtPy                1.11.0\n",
      "requests            2.26.0\n",
      "Send2Trash          1.8.0\n",
      "setuptools          57.5.0\n",
      "six                 1.16.0\n",
      "terminado           0.12.1\n",
      "testpath            0.5.0\n",
      "tornado             6.1\n",
      "traitlets           5.1.0\n",
      "urllib3             1.26.6\n",
      "wcwidth             0.2.5\n",
      "webencodings        0.5.1\n",
      "wheel               0.37.0\n",
      "widgetsnbextension  3.5.1\n"
     ]
    }
   ],
   "source": [
    "!pip list"
   ]
  },
  {
   "cell_type": "markdown",
   "id": "578b0588",
   "metadata": {},
   "source": [
    "# 新しいrequirementsの出力"
   ]
  },
  {
   "cell_type": "code",
   "execution_count": 4,
   "id": "823a34d9",
   "metadata": {},
   "outputs": [],
   "source": [
    "!pip freeze > requirements.txt"
   ]
  }
 ],
 "metadata": {
  "kernelspec": {
   "display_name": "Python 3 (ipykernel)",
   "language": "python",
   "name": "python3"
  },
  "language_info": {
   "codemirror_mode": {
    "name": "ipython",
    "version": 3
   },
   "file_extension": ".py",
   "mimetype": "text/x-python",
   "name": "python",
   "nbconvert_exporter": "python",
   "pygments_lexer": "ipython3",
   "version": "3.9.7"
  }
 },
 "nbformat": 4,
 "nbformat_minor": 5
}
